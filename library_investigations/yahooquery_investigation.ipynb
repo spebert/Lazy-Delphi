{
 "cells": [
  {
   "cell_type": "markdown",
   "metadata": {},
   "source": [
    "# yahooquery Investigation"
   ]
  },
  {
   "cell_type": "code",
   "execution_count": 1,
   "metadata": {},
   "outputs": [],
   "source": [
    "from yahooquery import Ticker"
   ]
  },
  {
   "cell_type": "code",
   "execution_count": 4,
   "metadata": {},
   "outputs": [
    {
     "name": "stdout",
     "output_type": "stream",
     "text": [
      "A Agilent Technologies, Inc. 39657103360 135.33\n",
      "AL Air Lease Corporation 4426646528 39.87\n",
      "AAP Advance Auto Parts, Inc. 3639737344 61.17\n",
      "AAPL Apple Inc. 2815367315456 182.32\n",
      "ZBRA Zebra Technologies Corporation 14100596736 274.43\n",
      "ZION Zions Bancorporation, National Association 5866858496 39.6\n",
      "ZTS Zoetis Inc. 86252986368 188.38\n"
     ]
    },
    {
     "data": {
      "text/plain": [
       "188.38"
      ]
     },
     "execution_count": 4,
     "metadata": {},
     "output_type": "execute_result"
    }
   ],
   "source": [
    "ticker_list = [\"A\", \"AL\", \"AAP\", \"AAPL\", \"ZBRA\", \"ZION\", \"ZTS\"]\n",
    "all_symbols = \" \".join(ticker_list)\n",
    "myInfo = Ticker(all_symbols)\n",
    "myDict = myInfo.price\n",
    "\n",
    "for ticker in ticker_list:\n",
    "    ticker = str(ticker)\n",
    "    longName = myDict[ticker]['longName']\n",
    "    market_cap = myDict[ticker]['marketCap']\n",
    "    price = myDict[ticker]['regularMarketPrice']\n",
    "    print(ticker, longName, market_cap, price)\n",
    "\n",
    "price"
   ]
  }
 ],
 "metadata": {
  "kernelspec": {
   "display_name": "python_env",
   "language": "python",
   "name": "python3"
  },
  "language_info": {
   "codemirror_mode": {
    "name": "ipython",
    "version": 3
   },
   "file_extension": ".py",
   "mimetype": "text/x-python",
   "name": "python",
   "nbconvert_exporter": "python",
   "pygments_lexer": "ipython3",
   "version": "3.11.2"
  }
 },
 "nbformat": 4,
 "nbformat_minor": 2
}
